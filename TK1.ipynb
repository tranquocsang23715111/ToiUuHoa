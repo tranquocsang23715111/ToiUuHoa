{
 "cells": [
  {
   "cell_type": "markdown",
   "metadata": {
    "id": "GsccfSDERjBo"
   },
   "source": [
    "# ĐỀ KIỂM TRA THỰC HÀNH 1 \n",
    "## Môn: Tối ưu hoá cho Khoa học dữ liệu\n",
    "## Ngày: 09/10/2024\n",
    "## Lớp: DHKHDL18A. Nhóm thực hành 3.\n",
    "## Thời gian: 45 phút"
   ]
  },
  {
   "cell_type": "markdown",
   "metadata": {},
   "source": [
    "<h1 style=\"text-align: center\"> Trịnh Nguyễn Hoàng Vũ - 22642231 </h1>"
   ]
  },
  {
   "cell_type": "markdown",
   "metadata": {
    "id": "dLqKbo8CeQy1"
   },
   "source": [
    "### Câu 1. (6 điểm) ### \n",
    "Cho ma trận $A=\\begin{bmatrix}3 & 0\\\\ 0 & 1 \\end{bmatrix}$ và vector $b=(2;-1)$. Xét bài toán tối ưu sau \n",
    "$$\\min_{x\\in\\mathbb{R}^2}f(x)=\\dfrac{1}{2}x^TAx-b^Tx.$$"
   ]
  },
  {
   "cell_type": "markdown",
   "metadata": {
    "id": "W00lHNXQfg15"
   },
   "source": [
    "1. (2 điểm) Xác định điểm tối ưu $x^*$ và giá trị tối ưu $p^*$ của bài toán trên.\n",
    "\n",
    "\n",
    "2. (2 điểm) Sử dụng thuật toán Gradient Descent, với giá trị $x$ ban đầu là $x^{(0)}=(0;1)$, sử dụng learning rate là $0.9$ và thực hiện tối đa $20$ vòng lặp. In ra giá trị của $x^{(k)}$ và $f(x^{(k)})$ tương ứng sau mỗi vòng lặp $k$. Từ đó vẽ đồ thị biểu thị cho sai số $|f(x^{(k)})-f(p^*)|$.\n",
    "\n",
    "\n",
    "3. (2 điểm) Tìm learning rate theo phương pháp exact-line search trong thuật toán Gradient Descent của bài toán trên với điểm khởi tạo là $x^{(0)}=(0;1)$. Gọi điểm cập nhật trong trường hợp này là $x^{(k)}_{\\text{exact}}$, vẽ đồ thị mô tả cho sai số $|f(x^{(k)}_{\\text{exact}})-f(p^*)|$.  \n"
   ]
  },
  {
   "cell_type": "markdown",
   "metadata": {},
   "source": [
    "<h2 style=\"text-align: center\"> Bài làm </h2>"
   ]
  },
  {
   "cell_type": "markdown",
   "metadata": {},
   "source": [
    "1. (2 điểm) Xác định điểm tối ưu $x^*$ và giá trị tối ưu $p^*$ của bài toán trên."
   ]
  },
  {
   "cell_type": "markdown",
   "metadata": {},
   "source": [
    "Vì $\\nabla f(x^*) = 0$, mà $\\nabla f(x) = Ax - b \\Rightarrow x^* = A^{-1}b$ và $p^* = f(x^*)$.\n",
    "\n",
    "Theo đề bài $A=\\begin{bmatrix}3 & 0\\\\ 0 & 1 \\end{bmatrix}$ và $b=(2;-1)$, nên $x^* = \\begin{bmatrix}3 & 0\\\\ 0 & 1 \\end{bmatrix}^{-1} \\cdot \\begin{bmatrix} 2\\\\-1 \\end{bmatrix} = \\begin{bmatrix}\\dfrac13 & 0\\\\ 0 & 1 \\end{bmatrix} \\cdot \\begin{bmatrix} 2\\\\-1 \\end{bmatrix} = \\begin{bmatrix} \\dfrac23\\\\-1 \\end{bmatrix}$\n",
    "\n",
    "và $p^* = \\dfrac12\\begin{bmatrix} \\dfrac23&-1 \\end{bmatrix} \\cdot \\begin{bmatrix}3 & 0\\\\ 0 & 1 \\end{bmatrix} \\cdot \\begin{bmatrix} \\dfrac23\\\\-1 \\end{bmatrix} - \\begin{bmatrix} 2&-1 \\end{bmatrix} \\cdot \\begin{bmatrix} \\dfrac23\\\\-1 \\end{bmatrix} = \\dfrac{-7}{6}$"
   ]
  },
  {
   "cell_type": "code",
   "execution_count": 1,
   "metadata": {},
   "outputs": [
    {
     "name": "stdout",
     "output_type": "stream",
     "text": [
      "Điểm tối ưu x* = [ 0.66666667 -1.        ]\n",
      "Giá trị tối ưu p* = -1.1666666666666665\n"
     ]
    }
   ],
   "source": [
    "import numpy as np\n",
    "\n",
    "A = np.array([[3, 0], [0, 1]])\n",
    "b = np.array([2, -1])\n",
    "\n",
    "x = np.linalg.inv(A) @ b\n",
    "p = 0.5 * x.T @ A @ x - b.T @ x\n",
    "\n",
    "print('Điểm tối ưu x* =', x)\n",
    "print('Giá trị tối ưu p* =', p)"
   ]
  },
  {
   "cell_type": "markdown",
   "metadata": {},
   "source": [
    "2. (2 điểm) Sử dụng thuật toán Gradient Descent, với giá trị $x$ ban đầu là $x^{(0)}=(0;1)$, sử dụng learning rate là $0.9$ và thực hiện tối đa $20$ vòng lặp. In ra giá trị của $x^{(k)}$ và $f(x^{(k)})$ tương ứng sau mỗi vòng lặp $k$. Từ đó vẽ đồ thị biểu thị cho sai số $|f(x^{(k)})-f(p^*)|$."
   ]
  },
  {
   "cell_type": "code",
   "execution_count": 2,
   "metadata": {},
   "outputs": [
    {
     "name": "stdout",
     "output_type": "stream",
     "text": [
      "Lần lặp thứ 1: x = [ 1.8 -0.8] và f(x) = 0.7800000000000002\n",
      "Lần lặp thứ 2: x = [-1.26 -0.98] và f(x) = 4.401600000000002\n",
      "Lần lặp thứ 3: x = [ 3.942 -0.998] và f(x) = 14.925048000000002\n",
      "Lần lặp thứ 4: x = [-4.9014 -0.9998] và f(x) = 45.33838296000002\n",
      "Lần lặp thứ 5: x = [10.13238 -0.99998] và f(x) = 133.2329266968\n",
      "Lần lặp thứ 6: x = [-15.425046  -0.999998] và f(x) = 387.248158153176\n",
      "Lần lặp thứ 7: x = [28.0225782 -0.9999998] và f(x) = 1121.3521770626728\n",
      "Lần lặp thứ 8: x = [-45.83838294  -0.99999998] và f(x) = 3242.9127917111255\n",
      "Lần lặp thứ 9: x = [79.725251 -1.      ] và f(x) = 9374.222968045151\n",
      "Lần lặp thứ 10: x = [-133.7329267   -1.       ] và f(x) = 27093.709377650488\n",
      "Lần lặp thứ 11: x = [229.14597538  -1.        ] và f(x) = 78303.02510140995\n",
      "Lần lặp thứ 12: x = [-387.74815815   -1.        ] và f(x) = 226297.94754307473\n",
      "Lần lặp thứ 13: x = [660.97186886  -1.        ] và f(x) = 654003.273399486\n",
      "Lần lặp thứ 14: x = [-1.12185218e+03 -1.00000000e+00] và f(x) = 1890071.665124514\n",
      "Lần lặp thứ 15: x = [ 1.9089487e+03 -1.0000000e+00] và f(x) = 5462309.317209845\n",
      "Lần lặp thứ 16: x = [-3.24341279e+03 -1.00000000e+00] và f(x) = 15786076.131736457\n",
      "Lần lặp thứ 17: x = [ 5.51560175e+03 -1.00000000e+00] và f(x) = 45621762.22571839\n",
      "Lần lặp thứ 18: x = [-9.37472297e+03 -1.00000000e+00] và f(x) = 131846895.03732617\n",
      "Lần lặp thứ 19: x = [ 1.5938829e+04 -1.0000000e+00] và f(x) = 381037528.8628727\n",
      "Lần lặp thứ 20: x = [-2.70942094e+04 -1.00000000e+00] và f(x) = 1101198460.618702\n"
     ]
    }
   ],
   "source": [
    "import matplotlib.pyplot as plt\n",
    "\n",
    "def object_function(x):\n",
    "    return 0.5 * x.T @ A @ x - b.T @ x\n",
    "\n",
    "def gradient(x):\n",
    "    return A @ x - b\n",
    "\n",
    "def gradient_descent(learning_rate, max_iterations, init_x):\n",
    "    x = init_x\n",
    "    \n",
    "    x_values = [x]\n",
    "    f_values = [object_function(x)]\n",
    "    for i in range(max_iterations):\n",
    "        x = x - learning_rate * gradient(x)\n",
    "        x_values.append(x)\n",
    "        f_values.append(object_function(x))\n",
    "        print(f'Lần lặp thứ {i + 1}: x = {x_values[-1]} và f(x) = {f_values[-1]}')\n",
    "    \n",
    "    return x_values, f_values\n",
    "\n",
    "lr = 0.9\n",
    "max_iter = 20\n",
    "x0 = np.array([0, 1])\n",
    "\n",
    "x_values, f_values = gradient_descent(lr, max_iter, x0)    "
   ]
  },
  {
   "cell_type": "code",
   "execution_count": 3,
   "metadata": {},
   "outputs": [
    {
     "data": {
      "image/png": "[encoded data removed]",
      "text/plain": [
       "<Figure size 720x360 with 1 Axes>"
      ]
     },
     "metadata": {
      "needs_background": "light"
     },
     "output_type": "display_data"
    }
   ],
   "source": [
    "errors = [abs(f - p) for f in f_values]\n",
    "\n",
    "plt.figure(figsize=(10, 5))\n",
    "plt.title('Đồ thị biểu thị sai số cho $|f(x^{(k)}) - p*|$')\n",
    "plt.plot(range(max_iter + 1), errors, c='r', marker='o')\n",
    "plt.xticks(range(max_iter + 1))\n",
    "plt.xlabel('Lần lặp')\n",
    "plt.ylabel('Errors')\n",
    "plt.show()"
   ]
  },
  {
   "cell_type": "markdown",
   "metadata": {},
   "source": [
    "3. (2 điểm) Tìm learning rate theo phương pháp exact-line search trong thuật toán Gradient Descent của bài toán trên với điểm khởi tạo là $x^{(0)}=(0;1)$. Gọi điểm cập nhật trong trường hợp này là $x^{(k)}_{\\text{exact}}$, vẽ đồ thị mô tả cho sai số $|f(x^{(k)}_{\\text{exact}})-f(p^*)|$. "
   ]
  },
  {
   "cell_type": "code",
   "execution_count": 4,
   "metadata": {},
   "outputs": [
    {
     "name": "stdout",
     "output_type": "stream",
     "text": [
      "Lần lặp thứ 1: x = [1.00000000e+00 2.22044605e-16] và f(x) = -0.5\n",
      "Lần lặp thứ 2: x = [ 0.50000001 -0.49999999] và f(x) = -1.0\n",
      "Lần lặp thứ 3: x = [ 0.75 -0.75] và f(x) = -1.1250000000000004\n",
      "Lần lặp thứ 4: x = [ 0.62499999 -0.87500001] và f(x) = -1.15625\n",
      "Lần lặp thứ 5: x = [ 0.6875 -0.9375] và f(x) = -1.1640625000000002\n",
      "Lần lặp thứ 6: x = [ 0.65625 -0.96875] và f(x) = -1.1660156250000002\n",
      "Lần lặp thứ 7: x = [ 0.67187499 -0.98437499] và f(x) = -1.16650390625\n",
      "Lần lặp thứ 8: x = [ 0.6640625 -0.9921875] và f(x) = -1.1666259765625004\n",
      "Lần lặp thứ 9: x = [ 0.66796874 -0.99609374] và f(x) = -1.1666564941406252\n",
      "Lần lặp thứ 10: x = [ 0.66601562 -0.99804688] và f(x) = -1.1666641235351567\n",
      "Lần lặp thứ 11: x = [ 0.66699218 -0.99902343] và f(x) = -1.1666660308837893\n",
      "Lần lặp thứ 12: x = [ 0.6665039  -0.99951172] và f(x) = -1.1666665077209477\n",
      "Lần lặp thứ 13: x = [ 0.66674804 -0.99975585] và f(x) = -1.166666626930237\n",
      "Lần lặp thứ 14: x = [ 0.66662597 -0.99987793] và f(x) = -1.1666666567325594\n",
      "Lần lặp thứ 15: x = [ 0.66668701 -0.99993897] và f(x) = -1.16666666418314\n",
      "Lần lặp thứ 16: x = [ 0.6666565  -0.99996948] và f(x) = -1.1666666660457852\n",
      "Lần lặp thứ 17: x = [ 0.66667175 -0.99998474] và f(x) = -1.1666666665114465\n",
      "Lần lặp thứ 18: x = [ 0.66666412 -0.99999237] và f(x) = -1.1666666666278618\n",
      "Lần lặp thứ 19: x = [ 0.66666794 -0.99999619] và f(x) = -1.1666666666569656\n",
      "Lần lặp thứ 20: x = [ 0.66666603 -0.99999809] và f(x) = -1.1666666666642416\n"
     ]
    }
   ],
   "source": [
    "from scipy.optimize import minimize_scalar\n",
    "\n",
    "def exact_line_search(x, gradient):\n",
    "    grad_func = lambda learning_rate: object_function(x - learning_rate * gradient)\n",
    "    result = minimize_scalar(grad_func)\n",
    "    return result.x\n",
    "\n",
    "def gradient_descent_exact_line_search(max_iterations, init_x):\n",
    "    x = init_x\n",
    "    \n",
    "    x_values = [x]\n",
    "    f_values = [object_function(x)]\n",
    "    for i in range(max_iterations):\n",
    "        learning_rate = exact_line_search(x, gradient(x))\n",
    "        x = x - learning_rate * gradient(x)\n",
    "        x_values.append(x)\n",
    "        f_values.append(object_function(x))\n",
    "        print(f'Lần lặp thứ {i + 1}: x = {x_values[-1]} và f(x) = {f_values[-1]}')\n",
    "    \n",
    "    return x_values, f_values\n",
    "\n",
    "x_values, f_values = gradient_descent_exact_line_search(max_iter, x0)"
   ]
  },
  {
   "cell_type": "code",
   "execution_count": 5,
   "metadata": {},
   "outputs": [
    {
     "data": {
      "image/png": "[encoded data removed]",
      "text/plain": [
       "<Figure size 720x360 with 1 Axes>"
      ]
     },
     "metadata": {
      "needs_background": "light"
     },
     "output_type": "display_data"
    }
   ],
   "source": [
    "errors = [abs(f - p) for f in f_values]\n",
    "\n",
    "plt.figure(figsize=(10, 5))\n",
    "plt.title('Đồ thị biểu thị sai số cho $|f(x_{exact}^{(k)}) - p*|$')\n",
    "plt.plot(range(max_iter + 1), errors, c='r', marker='o')\n",
    "plt.xticks(range(max_iter + 1))\n",
    "plt.xlabel('Lần lặp')\n",
    "plt.ylabel('Errors')\n",
    "plt.show()"
   ]
  },
  {
   "cell_type": "markdown",
   "metadata": {},
   "source": [
    "### Câu 2. (4 điểm)\n",
    "Bộ dữ liệu **Labeled Faces in the Wild (LFW)**: Bộ dữ liệu là tập hợp các bức ảnh JPEG của những người nổi tiếng được thu thập trên internet. Sử dụng lệnh sau để load bộ dữ liệu\n",
    "```python\n",
    "from sklearn.datasets import fetch_lfw_people\n",
    "lfwPeople = fetch_lfw_people(data_home=\"./\",min_faces_per_person=70, resize=0.4)\n",
    "````\n",
    "1. Hiển thị thông tin kích thước ảnh, số lượng ảnh, và số lượng nhãn (danh tính) trong bộ dữ liệu.\n",
    "2. Chia dữ liệu thành 2 phần train/test (70/30) và chuẩn hóa dữ liệu\n",
    "3. Xây dựng mô hình SVM sử dụng kernel ```sigmoid``` ({‘linear’, ‘poly’, ‘rbf’, ‘sigmoid’, ‘precomputed’})\n",
    "4. Đánh giá mô hình: sử dụng accuracy, precision, recall, F1-score"
   ]
  },
  {
   "cell_type": "markdown",
   "metadata": {},
   "source": [
    "<h2 style=\"text-align: center\"> Bài làm </h2>"
   ]
  },
  {
   "cell_type": "code",
   "execution_count": 6,
   "metadata": {},
   "outputs": [],
   "source": [
    "from sklearn.datasets import fetch_lfw_people\n",
    "lfwPeople = fetch_lfw_people(min_faces_per_person=70, resize=0.4)"
   ]
  },
  {
   "cell_type": "markdown",
   "metadata": {},
   "source": [
    "1. Hiển thị thông tin kích thước ảnh, số lượng ảnh, và số lượng nhãn (danh tính) trong bộ dữ liệu."
   ]
  },
  {
   "cell_type": "code",
   "execution_count": 7,
   "metadata": {},
   "outputs": [
    {
     "name": "stdout",
     "output_type": "stream",
     "text": [
      "Kích thước ảnh: 50x37\n",
      "Số lượng ảnh: 1217\n",
      "Số lượng nhãn: 6\n",
      "Các nhãn trong bộ dữ liệu: ['Ariel Sharon' 'Colin Powell' 'Donald Rumsfeld' 'George W Bush'\n",
      " 'Gerhard Schroeder' 'Tony Blair']\n"
     ]
    }
   ],
   "source": [
    "n, h, w = lfwPeople.images.shape\n",
    "\n",
    "print(f'Kích thước ảnh: {h}x{w}')\n",
    "print('Số lượng ảnh:', n)\n",
    "print('Số lượng nhãn:', len(lfwPeople.target_names))\n",
    "print(f'Các nhãn trong bộ dữ liệu: {lfwPeople.target_names}')"
   ]
  },
  {
   "cell_type": "markdown",
   "metadata": {},
   "source": [
    "2. Chia dữ liệu thành 2 phần train/test (70/30) và chuẩn hóa dữ liệu"
   ]
  },
  {
   "cell_type": "code",
   "execution_count": 8,
   "metadata": {},
   "outputs": [],
   "source": [
    "from sklearn.model_selection import train_test_split\n",
    "from sklearn.preprocessing import StandardScaler\n",
    "X = lfwPeople.data\n",
    "y = lfwPeople.target\n",
    "\n",
    "X_train, X_test, y_train, y_test = train_test_split(X, y, test_size=0.3, random_state=42)\n",
    "\n",
    "standardscaler = StandardScaler()\n",
    "X_train_standard = standardscaler.fit_transform(X_train)\n",
    "X_test_standard = standardscaler.transform(X_test)"
   ]
  },
  {
   "cell_type": "markdown",
   "metadata": {},
   "source": [
    "3. Xây dựng mô hình SVM sử dụng kernel ```sigmoid``` ({‘linear’, ‘poly’, ‘rbf’, ‘sigmoid’, ‘precomputed’})"
   ]
  },
  {
   "cell_type": "code",
   "execution_count": 9,
   "metadata": {},
   "outputs": [
    {
     "data": {
      "text/html": [
       "<style>#sk-container-id-1 {color: black;}#sk-container-id-1 pre{padding: 0;}#sk-container-id-1 div.sk-toggleable {background-color: white;}#sk-container-id-1 label.sk-toggleable__label {cursor: pointer;display: block;width: 100%;margin-bottom: 0;padding: 0.3em;box-sizing: border-box;text-align: center;}#sk-container-id-1 label.sk-toggleable__label-arrow:before {content: \"▸\";float: left;margin-right: 0.25em;color: #696969;}#sk-container-id-1 label.sk-toggleable__label-arrow:hover:before {color: black;}#sk-container-id-1 div.sk-estimator:hover label.sk-toggleable__label-arrow:before {color: black;}#sk-container-id-1 div.sk-toggleable__content {max-height: 0;max-width: 0;overflow: hidden;text-align: left;background-color: #f0f8ff;}#sk-container-id-1 div.sk-toggleable__content pre {margin: 0.2em;color: black;border-radius: 0.25em;background-color: #f0f8ff;}#sk-container-id-1 input.sk-toggleable__control:checked~div.sk-toggleable__content {max-height: 200px;max-width: 100%;overflow: auto;}#sk-container-id-1 input.sk-toggleable__control:checked~label.sk-toggleable__label-arrow:before {content: \"▾\";}#sk-container-id-1 div.sk-estimator input.sk-toggleable__control:checked~label.sk-toggleable__label {background-color: #d4ebff;}#sk-container-id-1 div.sk-label input.sk-toggleable__control:checked~label.sk-toggleable__label {background-color: #d4ebff;}#sk-container-id-1 input.sk-hidden--visually {border: 0;clip: rect(1px 1px 1px 1px);clip: rect(1px, 1px, 1px, 1px);height: 1px;margin: -1px;overflow: hidden;padding: 0;position: absolute;width: 1px;}#sk-container-id-1 div.sk-estimator {font-family: monospace;background-color: #f0f8ff;border: 1px dotted black;border-radius: 0.25em;box-sizing: border-box;margin-bottom: 0.5em;}#sk-container-id-1 div.sk-estimator:hover {background-color: #d4ebff;}#sk-container-id-1 div.sk-parallel-item::after {content: \"\";width: 100%;border-bottom: 1px solid gray;flex-grow: 1;}#sk-container-id-1 div.sk-label:hover label.sk-toggleable__label {background-color: #d4ebff;}#sk-container-id-1 div.sk-serial::before {content: \"\";position: absolute;border-left: 1px solid gray;box-sizing: border-box;top: 0;bottom: 0;left: 50%;z-index: 0;}#sk-container-id-1 div.sk-serial {display: flex;flex-direction: column;align-items: center;background-color: white;padding-right: 0.2em;padding-left: 0.2em;position: relative;}#sk-container-id-1 div.sk-item {position: relative;z-index: 1;}#sk-container-id-1 div.sk-parallel {display: flex;align-items: stretch;justify-content: center;background-color: white;position: relative;}#sk-container-id-1 div.sk-item::before, #sk-container-id-1 div.sk-parallel-item::before {content: \"\";position: absolute;border-left: 1px solid gray;box-sizing: border-box;top: 0;bottom: 0;left: 50%;z-index: -1;}#sk-container-id-1 div.sk-parallel-item {display: flex;flex-direction: column;z-index: 1;position: relative;background-color: white;}#sk-container-id-1 div.sk-parallel-item:first-child::after {align-self: flex-end;width: 50%;}#sk-container-id-1 div.sk-parallel-item:last-child::after {align-self: flex-start;width: 50%;}#sk-container-id-1 div.sk-parallel-item:only-child::after {width: 0;}#sk-container-id-1 div.sk-dashed-wrapped {border: 1px dashed gray;margin: 0 0.4em 0.5em 0.4em;box-sizing: border-box;padding-bottom: 0.4em;background-color: white;}#sk-container-id-1 div.sk-label label {font-family: monospace;font-weight: bold;display: inline-block;line-height: 1.2em;}#sk-container-id-1 div.sk-label-container {text-align: center;}#sk-container-id-1 div.sk-container {/* jupyter's `normalize.less` sets `[hidden] { display: none; }` but bootstrap.min.css set `[hidden] { display: none !important; }` so we also need the `!important` here to be able to override the default hidden behavior on the sphinx rendered scikit-learn.org. See: https://github.com/scikit-learn/scikit-learn/issues/21755 */display: inline-block !important;position: relative;}#sk-container-id-1 div.sk-text-repr-fallback {display: none;}</style><div id=\"sk-container-id-1\" class=\"sk-top-container\"><div class=\"sk-text-repr-fallback\"><pre>SVC(kernel=&#x27;sigmoid&#x27;, random_state=42)</pre><b>In a Jupyter environment, please rerun this cell to show the HTML representation or trust the notebook. <br />On GitHub, the HTML representation is unable to render, please try loading this page with nbviewer.org.</b></div><div class=\"sk-container\" hidden><div class=\"sk-item\"><div class=\"sk-estimator sk-toggleable\"><input class=\"sk-toggleable__control sk-hidden--visually\" id=\"sk-estimator-id-1\" type=\"checkbox\" checked><label for=\"sk-estimator-id-1\" class=\"sk-toggleable__label sk-toggleable__label-arrow\">SVC</label><div class=\"sk-toggleable__content\"><pre>SVC(kernel=&#x27;sigmoid&#x27;, random_state=42)</pre></div></div></div></div></div>"
      ],
      "text/plain": [
       "SVC(kernel='sigmoid', random_state=42)"
      ]
     },
     "execution_count": 9,
     "metadata": {},
     "output_type": "execute_result"
    }
   ],
   "source": [
    "from sklearn.svm import SVC\n",
    "\n",
    "model = SVC(kernel='sigmoid', random_state=42)\n",
    "model.fit(X_train_standard, y_train)"
   ]
  },
  {
   "cell_type": "markdown",
   "metadata": {},
   "source": [
    "4. Đánh giá mô hình: sử dụng accuracy, precision, recall, F1-score"
   ]
  },
  {
   "cell_type": "code",
   "execution_count": 10,
   "metadata": {},
   "outputs": [
    {
     "name": "stdout",
     "output_type": "stream",
     "text": [
      "Accuracy:  0.6666666666666666\n",
      "Precision:  0.6572814059453339\n",
      "Recall:  0.6666666666666666\n",
      "F1-score:  0.6547511825751849\n"
     ]
    }
   ],
   "source": [
    "from sklearn.metrics import accuracy_score, precision_score, recall_score, f1_score\n",
    "\n",
    "y_pred = model.predict(X_test_standard)\n",
    "\n",
    "print('Accuracy: ', accuracy_score(y_test, y_pred))\n",
    "print('Precision: ', precision_score(y_test, y_pred, average='weighted'))\n",
    "print('Recall: ', recall_score(y_test, y_pred, average='weighted'))\n",
    "print('F1-score: ', f1_score(y_test, y_pred, average='weighted'))"
   ]
  },
  {
   "cell_type": "markdown",
   "metadata": {},
   "source": [
    "## --------------------------------------- Hết --------------------------------------"
   ]
  },
  {
   "cell_type": "markdown",
   "metadata": {},
   "source": [
    "### Lưu ý: sinh viên không được sử dụng internet. Giám thị không giải thích gì thêm."
   ]
  }
 ],
 "metadata": {
  "colab": {
   "provenance": []
  },
  "kernelspec": {
   "display_name": "Python 3 (ipykernel)",
   "language": "python",
   "name": "python3"
  },
  "language_info": {
   "codemirror_mode": {
    "name": "ipython",
    "version": 3
   },
   "file_extension": ".py",
   "mimetype": "text/x-python",
   "name": "python",
   "nbconvert_exporter": "python",
   "pygments_lexer": "ipython3",
   "version": "3.11.7"
  }
 },
 "nbformat": 4,
 "nbformat_minor": 4
}
