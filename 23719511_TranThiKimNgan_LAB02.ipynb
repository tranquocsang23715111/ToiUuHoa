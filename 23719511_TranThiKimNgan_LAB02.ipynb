{
 "cells": [
  {
   "cell_type": "code",
   "execution_count": 1,
   "id": "a3098df2-81ff-47be-b4e5-04bd974c7146",
   "metadata": {},
   "outputs": [],
   "source": [
    "import pulp"
   ]
  },
  {
   "cell_type": "code",
   "execution_count": 2,
   "id": "bf6eeb5b-1217-45a8-a963-cbf12fcb3bff",
   "metadata": {},
   "outputs": [
    {
     "name": "stdout",
     "output_type": "stream",
     "text": [
      "Status: Optimal\n",
      "x (X sản xuất): 45.0\n",
      "y (Y sản xuất): 6.25\n",
      "Tổng tồn kho cuối: 1.25\n"
     ]
    }
   ],
   "source": [
    "model = pulp.LpProblem(\"Maximize_Stock\", pulp.LpMaximize)\n",
    "x = pulp.LpVariable('x', lowBound=0 )\n",
    "y = pulp.LpVariable('y', lowBound=0)\n",
    "model += x+y-50\n",
    "model += 50*x+24*y <= 40*60\n",
    "model += 30*x +33*y<= 35*60\n",
    "model += x>=45\n",
    "model += y>=5\n",
    "model.solve()\n",
    "print(f\"Status: {pulp.LpStatus[model.status]}\")\n",
    "print(f\"x (X sản xuất): {pulp.value(x)}\")\n",
    "print(f\"y (Y sản xuất): {pulp.value(y)}\")\n",
    "print(f\"Tổng tồn kho cuối: {pulp.value(model.objective)}\")"
   ]
  },
  {
   "cell_type": "code",
   "execution_count": 6,
   "id": "2fba788d-92e6-4aa1-9b07-18ac7e45f0e6",
   "metadata": {},
   "outputs": [
    {
     "name": "stdout",
     "output_type": "stream",
     "text": [
      "Dự báo Product 1 tuần 5: 37\n",
      "Dự báo Product 2 tuần 5: 14\n",
      "Status: Optimal\n",
      "x1: 36.0\n",
      "x2: 0.0\n",
      "Lợi nhuận: 343.0\n"
     ]
    }
   ],
   "source": [
    "import numpy as np\n",
    "import pulp\n",
    "\n",
    "# Phần 1: Exponential Smoothing cho dự báo\n",
    "# Dữ liệu nhu cầu\n",
    "demand_p1 = np.array([23, 27, 34, 40])  # Product 1\n",
    "demand_p2 = np.array([11, 13, 15, 14])  # Product 2\n",
    "alpha = 0.7\n",
    "\n",
    "# Tính forecast cho product 1\n",
    "forecast_p1 = [demand_p1[0]]\n",
    "for i in range(1, len(demand_p1)):\n",
    "    forecast_p1.append(alpha * demand_p1[i] + (1 - alpha) * forecast_p1[-1])\n",
    "forecast_p1_week5 = round(forecast_p1[-1])  # Làm tròn thành integer\n",
    "\n",
    "# Tính forecast cho product 2\n",
    "forecast_p2 = [demand_p2[0]]\n",
    "for i in range(1, len(demand_p2)):\n",
    "    forecast_p2.append(alpha * demand_p2[i] + (1 - alpha) * forecast_p2[-1])\n",
    "forecast_p2_week5 = round(forecast_p2[-1])  # Làm tròn\n",
    "\n",
    "print(f\"Dự báo Product 1 tuần 5: {forecast_p1_week5}\")\n",
    "print(f\"Dự báo Product 2 tuần 5: {forecast_p2_week5}\")\n",
    "\n",
    "# Phần 2: LP với forecast (37 và 14)\n",
    "model = pulp.LpProblem(\"Maximize_Profit\", pulp.LpMaximize)\n",
    "\n",
    "# Biến\n",
    "x1 = pulp.LpVariable('x1', lowBound=0)  # Sản xuất Product 1\n",
    "x2 = pulp.LpVariable('x2', lowBound=0)  # Sản xuất Product 2\n",
    "\n",
    "model += 13 * x1 + 5 * x2 - 125\n",
    "\n",
    "# Ràng buộc\n",
    "model += 15 * x1 + 7 * x2 <= 20 * 60  # Máy X: 20 giờ\n",
    "model += 25 * x1 + 45 * x2 <= 15 * 60  # Máy Y: 15 giờ\n",
    "model += x1 <= 37  # Nhu cầu Product 1\n",
    "model += x2 <= 14  # Nhu cầu Product 2\n",
    "\n",
    "# Giải\n",
    "model.solve()\n",
    "\n",
    "# Kết quả\n",
    "print(f\"Status: {pulp.LpStatus[model.status]}\")\n",
    "print(f\"x1: {pulp.value(x1)}\")\n",
    "print(f\"x2: {pulp.value(x2)}\")\n",
    "print(f\"Lợi nhuận: {pulp.value(model.objective)}\")"
   ]
  },
  {
   "cell_type": "code",
   "execution_count": 10,
   "id": "86635992-e1ec-407a-a10d-93b8368ad9f1",
   "metadata": {},
   "outputs": [
    {
     "name": "stdout",
     "output_type": "stream",
     "text": [
      "Status: optimal\n",
      "a: 11.000000\n",
      "b: 0.000000\n",
      "c: 11.000000\n",
      "Objective value: 110.000000\n"
     ]
    }
   ],
   "source": [
    "import cvxpy as cp\n",
    "import numpy as np\n",
    "a = cp.Variable()\n",
    "b = cp.Variable()\n",
    "obj = cp.Minimize(10*a + 11*b)\n",
    "constraints =[\n",
    "    a-b>=5,\n",
    "    a+b>=11,\n",
    "    a+b<=13,\n",
    "    a>=0,\n",
    "    b>=0\n",
    "]\n",
    "prob = cp.Problem(obj, constraints)\n",
    "prob.solve()\n",
    "print(f\"Status: {prob.status}\")\n",
    "print(f\"a: {a.value:.6f}\")\n",
    "print(f\"b: {b.value:.6f}\")\n",
    "print(f\"c: {a.value + b.value:.6f}\")\n",
    "print(f\"Objective value: {prob.value:.6f}\")"
   ]
  },
  {
   "cell_type": "code",
   "execution_count": 11,
   "id": "13c94e2d-d75d-4cee-8419-0c084ae6ea4b",
   "metadata": {},
   "outputs": [
    {
     "name": "stdout",
     "output_type": "stream",
     "text": [
      "Status: optimal\n",
      "x1: 5.222222\n",
      "x2: 2.222222\n",
      "Objective value: 39.444444\n"
     ]
    }
   ],
   "source": [
    "x1 = cp.Variable()\n",
    "x2 = cp.Variable()\n",
    "objective = cp.Maximize(5 * x1 + 6 * x2)\n",
    "constraints = [\n",
    "    x1 + x2 <= 10,        # Ràng buộc 1\n",
    "    x1 - x2 >= 3,         # Ràng buộc 2\n",
    "    5 * x1 + 4 * x2 <= 35, # Ràng buộc 3\n",
    "    x1 >= 0,              # Ràng buộc không âm\n",
    "    x2 >= 0               # Ràng buộc không âm\n",
    "]\n",
    "problem = cp.Problem(objective, constraints)\n",
    "problem.solve()\n",
    "print(f\"Status: {problem.status}\")\n",
    "print(f\"x1: {x1.value:.6f}\")\n",
    "print(f\"x2: {x2.value:.6f}\")\n",
    "print(f\"Objective value: {problem.value:.6f}\")"
   ]
  },
  {
   "cell_type": "code",
   "execution_count": 12,
   "id": "a6d1a0b7-479e-4550-b143-462f5bd5c000",
   "metadata": {},
   "outputs": [
    {
     "name": "stdout",
     "output_type": "stream",
     "text": [
      "Status: optimal\n",
      "xT (tables): 1.333333\n",
      "xC (chairs): 10.666667\n",
      "Objective value (profit): 146.666667\n"
     ]
    }
   ],
   "source": [
    "\n",
    "xT = cp.Variable()  # Số bàn (tables)\n",
    "xC = cp.Variable()  # Số ghế (chairs)\n",
    "\n",
    "objective = cp.Maximize(30 * xT + 10 * xC)\n",
    "\n",
    "constraints = [\n",
    "    6 * xT + 3 * xC <= 40,  # Ràng buộc thời gian làm việc\n",
    "    xC >= 3 * xT,           # Ràng buộc tỷ lệ ghế/bàn\n",
    "    xT + (xC / 4) <= 4,     # Ràng buộc không gian lưu trữ\n",
    "    xT >= 0,                # Ràng buộc không âm\n",
    "    xC >= 0                 # Ràng buộc không âm\n",
    "]\n",
    "\n",
    "problem = cp.Problem(objective, constraints)\n",
    "\n",
    "problem.solve()\n",
    "\n",
    "print(f\"Status: {problem.status}\")\n",
    "print(f\"xT (tables): {xT.value:.6f}\")\n",
    "print(f\"xC (chairs): {xC.value:.6f}\")\n",
    "print(f\"Objective value (profit): {problem.value:.6f}\")"
   ]
  },
  {
   "cell_type": "code",
   "execution_count": null,
   "id": "af7d3f95-9121-4e8a-93b7-50ecc2ac0f7b",
   "metadata": {},
   "outputs": [],
   "source": []
  }
 ],
 "metadata": {
  "kernelspec": {
   "display_name": "Python [conda env:base] *",
   "language": "python",
   "name": "conda-base-py"
  },
  "language_info": {
   "codemirror_mode": {
    "name": "ipython",
    "version": 3
   },
   "file_extension": ".py",
   "mimetype": "text/x-python",
   "name": "python",
   "nbconvert_exporter": "python",
   "pygments_lexer": "ipython3",
   "version": "3.13.5"
  }
 },
 "nbformat": 4,
 "nbformat_minor": 5
}
