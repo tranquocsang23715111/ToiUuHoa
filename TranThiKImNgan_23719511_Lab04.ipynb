{
 "cells": [
  {
   "cell_type": "code",
   "execution_count": 2,
   "id": "299fd078-202d-4a3b-b837-0471921e56a5",
   "metadata": {},
   "outputs": [],
   "source": [
    "import pandas as pd\n",
    "import numpy as np\n",
    "import matplotlib.pyplot as plt\n",
    "import seaborn as sns\n",
    "import statsmodels.api as sm\n",
    "from sklearn.linear_model import LinearRegression\n",
    "from sklearn.metrics import r2_score, mean_squared_error"
   ]
  },
  {
   "cell_type": "markdown",
   "id": "12581e05-db80-4a79-a49f-c6097c09720b",
   "metadata": {},
   "source": [
    "## 4-10/12\n",
    "The operations manager of a musical instrument\n",
    "distributor feels that demand for bass drums may be\n",
    "related to the number of television appearances by\n",
    "the popular rock group Green Shades during the preceding month. The manager has collected the data\n",
    "shown in the following table  \n",
    "**Bài 4.10:** Dự báo nhu cầu trống bass dựa trên số lần xuất hiện trên TV của ban nhạc Green Shades \n",
    "\n",
    "**Bài 4.12:** Dùng phần mềm để tìm đường hồi quy bình phương nhỏ nhất cho dữ liệu bài 4.10, kiểm định F để xác định quan hệ có ý nghĩa thống kê không"
   ]
  },
  {
   "cell_type": "code",
   "execution_count": 4,
   "id": "ca5f7e09-50c6-49e1-a56b-7d346e9c2473",
   "metadata": {},
   "outputs": [
    {
     "data": {
      "image/png": "[encoded data removed]",
      "text/plain": [
       "<Figure size 640x480 with 1 Axes>"
      ]
     },
     "metadata": {},
     "output_type": "display_data"
    },
    {
     "name": "stdout",
     "output_type": "stream",
     "text": [
      "Phương trình hồi quy: Y = 2.80 + 1.80X\n",
      "R² = 0.988, MSE = 0.080\n",
      "                            OLS Regression Results                            \n",
      "==============================================================================\n",
      "Dep. Variable:            Drum_Demand   R-squared:                       0.988\n",
      "Model:                            OLS   Adj. R-squared:                  0.984\n",
      "Method:                 Least Squares   F-statistic:                     243.0\n",
      "Date:                Wed, 17 Sep 2025   Prob (F-statistic):           0.000574\n",
      "Time:                        07:28:12   Log-Likelihood:               -0.78037\n",
      "No. Observations:                   5   AIC:                             5.561\n",
      "Df Residuals:                       3   BIC:                             4.780\n",
      "Df Model:                           1                                         \n",
      "Covariance Type:            nonrobust                                         \n",
      "==================================================================================\n",
      "                     coef    std err          t      P>|t|      [0.025      0.975]\n",
      "----------------------------------------------------------------------------------\n",
      "const              2.8000      0.600      4.667      0.019       0.891       4.709\n",
      "TV_Appearances     1.8000      0.115     15.588      0.001       1.433       2.167\n",
      "==============================================================================\n",
      "Omnibus:                          nan   Durbin-Watson:                   1.900\n",
      "Prob(Omnibus):                    nan   Jarque-Bera (JB):                0.352\n",
      "Skew:                          -0.000   Prob(JB):                        0.839\n",
      "Kurtosis:                       1.700   Cond. No.                         19.7\n",
      "==============================================================================\n",
      "\n",
      "Notes:\n",
      "[1] Standard Errors assume that the covariance matrix of the errors is correctly specified.\n"
     ]
    },
    {
     "name": "stderr",
     "output_type": "stream",
     "text": [
      "C:\\Users\\Lenovo\\anaconda3\\Lib\\site-packages\\statsmodels\\stats\\stattools.py:74: ValueWarning: omni_normtest is not valid with less than 8 observations; 5 samples were given.\n",
      "  warn(\"omni_normtest is not valid with less than 8 observations; %i \"\n"
     ]
    }
   ],
   "source": [
    "# 1. Nhập data\n",
    "data = pd.DataFrame({\n",
    "    \"TV_Appearances\": [3, 4, 5, 6, 7],\n",
    "    \"Drum_Demand\": [8, 10, 12, 14, 15]\n",
    "})\n",
    "\n",
    "# 2. Vẽ bd\n",
    "sns.scatterplot(x=\"TV_Appearances\", y=\"Drum_Demand\", data=data)\n",
    "plt.title(\"Drum Demand vs TV Appearances\")\n",
    "plt.show()\n",
    "\n",
    "# 3. Xây dựng mô hình hồi quy\n",
    "X = data[[\"TV_Appearances\"]]\n",
    "y = data[\"Drum_Demand\"]\n",
    "\n",
    "model = LinearRegression()\n",
    "model.fit(X, y)\n",
    "\n",
    "# 4. In kq\n",
    "b0 = model.intercept_\n",
    "b1 = model.coef_[0]\n",
    "print(f\"Phương trình hồi quy: Y = {b0:.2f} + {b1:.2f}X\")\n",
    "\n",
    "# 5. Đánh giá mô hình\n",
    "y_pred = model.predict(X)\n",
    "r2 = r2_score(y, y_pred)\n",
    "mse = mean_squared_error(y, y_pred)\n",
    "print(f\"R² = {r2:.3f}, MSE = {mse:.3f}\")\n",
    "\n",
    "# 6. Kiểm định F-test và p-value với statsmodels\n",
    "X_sm = sm.add_constant(X)  # thêm hệ số chặn\n",
    "ols_model = sm.OLS(y, X_sm).fit()\n",
    "print(ols_model.summary())\n"
   ]
  },
  {
   "cell_type": "code",
   "execution_count": 5,
   "id": "ee21a562-9c9f-4313-b05b-f77c2fce362a",
   "metadata": {},
   "outputs": [
    {
     "name": "stdout",
     "output_type": "stream",
     "text": [
      "Hồi quy 4.10/4.12: 2.799999999999997 [1.8]\n",
      "                            OLS Regression Results                            \n",
      "==============================================================================\n",
      "Dep. Variable:            Drum_Demand   R-squared:                       0.988\n",
      "Model:                            OLS   Adj. R-squared:                  0.984\n",
      "Method:                 Least Squares   F-statistic:                     243.0\n",
      "Date:                Wed, 17 Sep 2025   Prob (F-statistic):           0.000574\n",
      "Time:                        07:38:01   Log-Likelihood:               -0.78037\n",
      "No. Observations:                   5   AIC:                             5.561\n",
      "Df Residuals:                       3   BIC:                             4.780\n",
      "Df Model:                           1                                         \n",
      "Covariance Type:            nonrobust                                         \n",
      "==================================================================================\n",
      "                     coef    std err          t      P>|t|      [0.025      0.975]\n",
      "----------------------------------------------------------------------------------\n",
      "const              2.8000      0.600      4.667      0.019       0.891       4.709\n",
      "TV_Appearances     1.8000      0.115     15.588      0.001       1.433       2.167\n",
      "==============================================================================\n",
      "Omnibus:                          nan   Durbin-Watson:                   1.900\n",
      "Prob(Omnibus):                    nan   Jarque-Bera (JB):                0.352\n",
      "Skew:                          -0.000   Prob(JB):                        0.839\n",
      "Kurtosis:                       1.700   Cond. No.                         19.7\n",
      "==============================================================================\n",
      "\n",
      "Notes:\n",
      "[1] Standard Errors assume that the covariance matrix of the errors is correctly specified.\n"
     ]
    },
    {
     "name": "stderr",
     "output_type": "stream",
     "text": [
      "C:\\Users\\Lenovo\\anaconda3\\Lib\\site-packages\\statsmodels\\stats\\stattools.py:74: ValueWarning: omni_normtest is not valid with less than 8 observations; 5 samples were given.\n",
      "  warn(\"omni_normtest is not valid with less than 8 observations; %i \"\n"
     ]
    }
   ],
   "source": [
    "data_410 = pd.DataFrame({\n",
    "    \"TV_Appearances\": [3, 4, 5, 6, 7],\n",
    "    \"Drum_Demand\": [8, 10, 12, 14, 15]\n",
    "})\n",
    "\n",
    "X = data_410[[\"TV_Appearances\"]]\n",
    "y = data_410[\"Drum_Demand\"]\n",
    "\n",
    "model = LinearRegression().fit(X, y)\n",
    "print(\"Hồi quy 4.10/4.12:\", model.intercept_, model.coef_)\n",
    "\n",
    "X_sm = sm.add_constant(X)\n",
    "ols = sm.OLS(y, X_sm).fit()\n",
    "print(ols.summary())\n"
   ]
  },
  {
   "cell_type": "code",
   "execution_count": 6,
   "id": "0824585b-0c77-4dac-82bd-27c3047e1278",
   "metadata": {},
   "outputs": [
    {
     "name": "stdout",
     "output_type": "stream",
     "text": [
      "Hồi quy 4.16: 46057.47531734838 [144.97884344]\n",
      "                            OLS Regression Results                            \n",
      "==============================================================================\n",
      "Dep. Variable:                  Price   R-squared:                       0.833\n",
      "Model:                            OLS   Adj. R-squared:                  0.777\n",
      "Method:                 Least Squares   F-statistic:                     14.96\n",
      "Date:                Wed, 17 Sep 2025   Prob (F-statistic):             0.0306\n",
      "Time:                        07:38:44   Log-Likelihood:                -55.883\n",
      "No. Observations:                   5   AIC:                             115.8\n",
      "Df Residuals:                       3   BIC:                             115.0\n",
      "Df Model:                           1                                         \n",
      "Covariance Type:            nonrobust                                         \n",
      "===============================================================================\n",
      "                  coef    std err          t      P>|t|      [0.025      0.975]\n",
      "-------------------------------------------------------------------------------\n",
      "const        4.606e+04   5.84e+04      0.789      0.488    -1.4e+05    2.32e+05\n",
      "Square_Feet   144.9788     37.481      3.868      0.031      25.698     264.259\n",
      "==============================================================================\n",
      "Omnibus:                          nan   Durbin-Watson:                   2.493\n",
      "Prob(Omnibus):                    nan   Jarque-Bera (JB):                1.571\n",
      "Skew:                           1.372   Prob(JB):                        0.456\n",
      "Kurtosis:                       3.086   Cond. No.                     9.12e+03\n",
      "==============================================================================\n",
      "\n",
      "Notes:\n",
      "[1] Standard Errors assume that the covariance matrix of the errors is correctly specified.\n",
      "[2] The condition number is large, 9.12e+03. This might indicate that there are\n",
      "strong multicollinearity or other numerical problems.\n"
     ]
    },
    {
     "name": "stderr",
     "output_type": "stream",
     "text": [
      "C:\\Users\\Lenovo\\anaconda3\\Lib\\site-packages\\statsmodels\\stats\\stattools.py:74: ValueWarning: omni_normtest is not valid with less than 8 observations; 5 samples were given.\n",
      "  warn(\"omni_normtest is not valid with less than 8 observations; %i \"\n"
     ]
    }
   ],
   "source": [
    "data_416 = pd.DataFrame({\n",
    "    \"Square_Feet\": [1400, 1600, 1700, 1875, 1100],\n",
    "    \"Price\": [245000, 312000, 279000, 308000, 199000]\n",
    "})\n",
    "\n",
    "X = data_416[[\"Square_Feet\"]]\n",
    "y = data_416[\"Price\"]\n",
    "\n",
    "model = LinearRegression().fit(X, y)\n",
    "print(\"Hồi quy 4.16:\", model.intercept_, model.coef_)\n",
    "\n",
    "X_sm = sm.add_constant(X)\n",
    "ols = sm.OLS(y, X_sm).fit()\n",
    "print(ols.summary())\n"
   ]
  },
  {
   "cell_type": "code",
   "execution_count": 7,
   "id": "4e2fdf99-b11e-4ad1-9a6b-3fa7f6753cae",
   "metadata": {},
   "outputs": [
    {
     "name": "stdout",
     "output_type": "stream",
     "text": [
      "Hồi quy 4.18: -0.6472972972972983 [0.00305405]\n",
      "                            OLS Regression Results                            \n",
      "==============================================================================\n",
      "Dep. Variable:                    GPA   R-squared:                       0.980\n",
      "Model:                            OLS   Adj. R-squared:                  0.976\n",
      "Method:                 Least Squares   F-statistic:                     200.3\n",
      "Date:                Wed, 17 Sep 2025   Prob (F-statistic):           0.000145\n",
      "Time:                        07:38:52   Log-Likelihood:                 8.1820\n",
      "No. Observations:                   6   AIC:                            -12.36\n",
      "Df Residuals:                       4   BIC:                            -12.78\n",
      "Df Model:                           1                                         \n",
      "Covariance Type:            nonrobust                                         \n",
      "==============================================================================\n",
      "                 coef    std err          t      P>|t|      [0.025      0.975]\n",
      "------------------------------------------------------------------------------\n",
      "const         -0.6473      0.257     -2.516      0.066      -1.361       0.067\n",
      "SAT            0.0031      0.000     14.153      0.000       0.002       0.004\n",
      "==============================================================================\n",
      "Omnibus:                          nan   Durbin-Watson:                   2.906\n",
      "Prob(Omnibus):                    nan   Jarque-Bera (JB):                0.712\n",
      "Skew:                           0.390   Prob(JB):                        0.701\n",
      "Kurtosis:                       1.504   Cond. No.                     9.91e+03\n",
      "==============================================================================\n",
      "\n",
      "Notes:\n",
      "[1] Standard Errors assume that the covariance matrix of the errors is correctly specified.\n",
      "[2] The condition number is large, 9.91e+03. This might indicate that there are\n",
      "strong multicollinearity or other numerical problems.\n"
     ]
    },
    {
     "name": "stderr",
     "output_type": "stream",
     "text": [
      "C:\\Users\\Lenovo\\anaconda3\\Lib\\site-packages\\statsmodels\\stats\\stattools.py:74: ValueWarning: omni_normtest is not valid with less than 8 observations; 6 samples were given.\n",
      "  warn(\"omni_normtest is not valid with less than 8 observations; %i \"\n"
     ]
    }
   ],
   "source": [
    "data_418 = pd.DataFrame({\n",
    "    \"SAT\": [1100, 1250, 1300, 1050, 1400, 1000],\n",
    "    \"GPA\": [2.8, 3.1, 3.4, 2.5, 3.6, 2.4]\n",
    "})\n",
    "\n",
    "X = data_418[[\"SAT\"]]\n",
    "y = data_418[\"GPA\"]\n",
    "\n",
    "model = LinearRegression().fit(X, y)\n",
    "print(\"Hồi quy 4.18:\", model.intercept_, model.coef_)\n",
    "\n",
    "X_sm = sm.add_constant(X)\n",
    "ols = sm.OLS(y, X_sm).fit()\n",
    "print(ols.summary())\n"
   ]
  },
  {
   "cell_type": "code",
   "execution_count": 8,
   "id": "117f63b1-be20-44d9-b5bd-d6affa76be4d",
   "metadata": {},
   "outputs": [
    {
     "name": "stdout",
     "output_type": "stream",
     "text": [
      "Hồi quy 4.22 (Square_Feet): 46057.47531734838 [144.97884344]\n",
      "Hồi quy 4.22 (Bedrooms): 170000.0 [35214.28571429]\n",
      "Hồi quy 4.22 (Age): 343418.2305630027 [-6563.00268097]\n"
     ]
    }
   ],
   "source": [
    "data_422 = pd.DataFrame({\n",
    "    \"Price\": [245000, 312000, 279000, 308000, 199000],\n",
    "    \"Square_Feet\": [1400, 1600, 1700, 1875, 1100],\n",
    "    \"Bedrooms\": [3, 3, 2, 4, 2],\n",
    "    \"Age\": [10, 5, 15, 7, 20]\n",
    "})\n",
    "\n",
    "# Hồi quy từng biến độc lập riêng\n",
    "for var in [\"Square_Feet\", \"Bedrooms\", \"Age\"]:\n",
    "    X = data_422[[var]]\n",
    "    y = data_422[\"Price\"]\n",
    "    model = LinearRegression().fit(X, y)\n",
    "    print(f\"Hồi quy 4.22 ({var}):\", model.intercept_, model.coef_)\n"
   ]
  },
  {
   "cell_type": "code",
   "execution_count": 9,
   "id": "8c4a70ab-5142-4ebd-a4fb-118f66e819fb",
   "metadata": {},
   "outputs": [
    {
     "name": "stdout",
     "output_type": "stream",
     "text": [
      "Hồi quy 4.24: 216586.6343937298 [   105.80414938 -18422.13923467  -5159.12402029]\n",
      "                            OLS Regression Results                            \n",
      "==============================================================================\n",
      "Dep. Variable:                  Price   R-squared:                       0.970\n",
      "Model:                            OLS   Adj. R-squared:                  0.878\n",
      "Method:                 Least Squares   F-statistic:                     10.63\n",
      "Date:                Wed, 17 Sep 2025   Prob (F-statistic):              0.221\n",
      "Time:                        07:39:09   Log-Likelihood:                -51.624\n",
      "No. Observations:                   5   AIC:                             111.2\n",
      "Df Residuals:                       1   BIC:                             109.7\n",
      "Df Model:                           3                                         \n",
      "Covariance Type:            nonrobust                                         \n",
      "===============================================================================\n",
      "                  coef    std err          t      P>|t|      [0.025      0.975]\n",
      "-------------------------------------------------------------------------------\n",
      "const        2.166e+05   9.35e+04      2.317      0.259   -9.71e+05     1.4e+06\n",
      "Square_Feet   105.8041     37.771      2.801      0.218    -374.116     585.724\n",
      "Bedrooms    -1.842e+04   1.71e+04     -1.077      0.476   -2.36e+05    1.99e+05\n",
      "Age         -5159.1240   2495.020     -2.068      0.287   -3.69e+04    2.65e+04\n",
      "==============================================================================\n",
      "Omnibus:                          nan   Durbin-Watson:                   2.048\n",
      "Prob(Omnibus):                    nan   Jarque-Bera (JB):                0.650\n",
      "Skew:                          -0.768   Prob(JB):                        0.722\n",
      "Kurtosis:                       2.128   Cond. No.                     1.99e+04\n",
      "==============================================================================\n",
      "\n",
      "Notes:\n",
      "[1] Standard Errors assume that the covariance matrix of the errors is correctly specified.\n",
      "[2] The condition number is large, 1.99e+04. This might indicate that there are\n",
      "strong multicollinearity or other numerical problems.\n"
     ]
    },
    {
     "name": "stderr",
     "output_type": "stream",
     "text": [
      "C:\\Users\\Lenovo\\anaconda3\\Lib\\site-packages\\statsmodels\\stats\\stattools.py:74: ValueWarning: omni_normtest is not valid with less than 8 observations; 5 samples were given.\n",
      "  warn(\"omni_normtest is not valid with less than 8 observations; %i \"\n"
     ]
    }
   ],
   "source": [
    "X = data_422[[\"Square_Feet\", \"Bedrooms\", \"Age\"]]\n",
    "y = data_422[\"Price\"]\n",
    "\n",
    "model = LinearRegression().fit(X, y)\n",
    "print(\"Hồi quy 4.24:\", model.intercept_, model.coef_)\n",
    "\n",
    "X_sm = sm.add_constant(X)\n",
    "ols = sm.OLS(y, X_sm).fit()\n",
    "print(ols.summary())\n"
   ]
  },
  {
   "cell_type": "code",
   "execution_count": 10,
   "id": "13c9ef9f-cabe-49d7-a6fc-6ed22a6a7e05",
   "metadata": {},
   "outputs": [
    {
     "name": "stdout",
     "output_type": "stream",
     "text": [
      "Hồi quy 4.26: 62000.00000000003 [180.  50.]\n",
      "                            OLS Regression Results                            \n",
      "==============================================================================\n",
      "Dep. Variable:                   Cost   R-squared:                       0.997\n",
      "Model:                            OLS   Adj. R-squared:                  0.994\n",
      "Method:                 Least Squares   F-statistic:                     313.0\n",
      "Date:                Wed, 17 Sep 2025   Prob (F-statistic):            0.00318\n",
      "Time:                        07:39:21   Log-Likelihood:                -45.099\n",
      "No. Observations:                   5   AIC:                             96.20\n",
      "Df Residuals:                       2   BIC:                             95.03\n",
      "Df Model:                           2                                         \n",
      "Covariance Type:            nonrobust                                         \n",
      "==============================================================================\n",
      "                 coef    std err          t      P>|t|      [0.025      0.975]\n",
      "------------------------------------------------------------------------------\n",
      "const         6.2e+04   1.09e+04      5.708      0.029    1.53e+04    1.09e+05\n",
      "Beds         180.0000    320.624      0.561      0.631   -1199.535    1559.535\n",
      "Admissions    50.0000     50.000      1.000      0.423    -165.133     265.133\n",
      "==============================================================================\n",
      "Omnibus:                          nan   Durbin-Watson:                   3.450\n",
      "Prob(Omnibus):                    nan   Jarque-Bera (JB):                0.188\n",
      "Skew:                          -0.000   Prob(JB):                        0.910\n",
      "Kurtosis:                       2.050   Cond. No.                     1.20e+04\n",
      "==============================================================================\n",
      "\n",
      "Notes:\n",
      "[1] Standard Errors assume that the covariance matrix of the errors is correctly specified.\n",
      "[2] The condition number is large, 1.2e+04. This might indicate that there are\n",
      "strong multicollinearity or other numerical problems.\n"
     ]
    },
    {
     "name": "stderr",
     "output_type": "stream",
     "text": [
      "C:\\Users\\Lenovo\\anaconda3\\Lib\\site-packages\\statsmodels\\stats\\stattools.py:74: ValueWarning: omni_normtest is not valid with less than 8 observations; 5 samples were given.\n",
      "  warn(\"omni_normtest is not valid with less than 8 observations; %i \"\n"
     ]
    }
   ],
   "source": [
    "data_426 = pd.DataFrame({\n",
    "    \"Cost\": [120000, 150000, 170000, 200000, 220000],\n",
    "    \"Beds\": [100, 150, 200, 250, 300],\n",
    "    \"Admissions\": [800, 1200, 1500, 1800, 2100]\n",
    "})\n",
    "\n",
    "X = data_426[[\"Beds\", \"Admissions\"]]\n",
    "y = data_426[\"Cost\"]\n",
    "\n",
    "model = LinearRegression().fit(X, y)\n",
    "print(\"Hồi quy 4.26:\", model.intercept_, model.coef_)\n",
    "\n",
    "X_sm = sm.add_constant(X)\n",
    "ols = sm.OLS(y, X_sm).fit()\n",
    "print(ols.summary())\n"
   ]
  },
  {
   "cell_type": "code",
   "execution_count": 11,
   "id": "1b71fa9e-ec03-4342-9474-b5e5781b54b1",
   "metadata": {},
   "outputs": [
    {
     "name": "stdout",
     "output_type": "stream",
     "text": [
      "Hồi quy 4.28: 54.695384615384626 [-0.00116923 -0.00935385]\n",
      "                            OLS Regression Results                            \n",
      "==============================================================================\n",
      "Dep. Variable:                    MPG   R-squared:                       0.968\n",
      "Model:                            OLS   Adj. R-squared:                  0.957\n",
      "Method:                 Least Squares   F-statistic:                     90.25\n",
      "Date:                Wed, 17 Sep 2025   Prob (F-statistic):            0.00247\n",
      "Time:                        07:39:28   Log-Likelihood:                -6.9926\n",
      "No. Observations:                   5   AIC:                             17.99\n",
      "Df Residuals:                       3   BIC:                             17.20\n",
      "Df Model:                           1                                         \n",
      "Covariance Type:            nonrobust                                         \n",
      "==============================================================================\n",
      "                 coef    std err          t      P>|t|      [0.025      0.975]\n",
      "------------------------------------------------------------------------------\n",
      "const          0.0018      0.000     18.041      0.000       0.001       0.002\n",
      "Horsepower    -0.3137      0.017    -17.983      0.000      -0.369      -0.258\n",
      "Weight         0.0297      0.001     24.513      0.000       0.026       0.034\n",
      "==============================================================================\n",
      "Omnibus:                          nan   Durbin-Watson:                   1.408\n",
      "Prob(Omnibus):                    nan   Jarque-Bera (JB):                0.453\n",
      "Skew:                          -0.051   Prob(JB):                        0.797\n",
      "Kurtosis:                       1.529   Cond. No.                     4.31e+19\n",
      "==============================================================================\n",
      "\n",
      "Notes:\n",
      "[1] Standard Errors assume that the covariance matrix of the errors is correctly specified.\n",
      "[2] The smallest eigenvalue is 2.52e-32. This might indicate that there are\n",
      "strong multicollinearity problems or that the design matrix is singular.\n"
     ]
    },
    {
     "name": "stderr",
     "output_type": "stream",
     "text": [
      "C:\\Users\\Lenovo\\anaconda3\\Lib\\site-packages\\statsmodels\\stats\\stattools.py:74: ValueWarning: omni_normtest is not valid with less than 8 observations; 5 samples were given.\n",
      "  warn(\"omni_normtest is not valid with less than 8 observations; %i \"\n"
     ]
    }
   ],
   "source": [
    "data_428 = pd.DataFrame({\n",
    "    \"MPG\": [35, 30, 25, 22, 20],\n",
    "    \"Horsepower\": [100, 150, 200, 250, 300],\n",
    "    \"Weight\": [2200, 2600, 3000, 3400, 3800]\n",
    "})\n",
    "\n",
    "X = data_428[[\"Horsepower\", \"Weight\"]]\n",
    "y = data_428[\"MPG\"]\n",
    "\n",
    "model = LinearRegression().fit(X, y)\n",
    "print(\"Hồi quy 4.28:\", model.intercept_, model.coef_)\n",
    "\n",
    "X_sm = sm.add_constant(X)\n",
    "ols = sm.OLS(y, X_sm).fit()\n",
    "print(ols.summary())\n"
   ]
  },
  {
   "cell_type": "code",
   "execution_count": null,
   "id": "bc36d064-877c-4358-bcbe-ff3950c3adc6",
   "metadata": {},
   "outputs": [],
   "source": []
  }
 ],
 "metadata": {
  "kernelspec": {
   "display_name": "Python [conda env:base] *",
   "language": "python",
   "name": "conda-base-py"
  },
  "language_info": {
   "codemirror_mode": {
    "name": "ipython",
    "version": 3
   },
   "file_extension": ".py",
   "mimetype": "text/x-python",
   "name": "python",
   "nbconvert_exporter": "python",
   "pygments_lexer": "ipython3",
   "version": "3.13.5"
  }
 },
 "nbformat": 4,
 "nbformat_minor": 5
}
