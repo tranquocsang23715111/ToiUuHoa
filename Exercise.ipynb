{
 "cells": [
  {
   "cell_type": "markdown",
   "id": "ae4ecc5d",
   "metadata": {},
   "source": [
    "# Linear Regression with Python's Scikit-learn"
   ]
  },
  {
   "cell_type": "markdown",
   "id": "61bd5824",
   "metadata": {},
   "source": [
    "## Exploratory Data Analysis"
   ]
  },
  {
   "cell_type": "markdown",
   "id": "221b6346",
   "metadata": {},
   "source": [
    "Let's start with exploratory data analysis. You want to get to know your data first - this includes loading it in, visualizing features, exploring their relationships and making hypotheses based on your observations. The dataset is a CSV (comma-separated values) file, which contains the hours studied and the scores obtained based on those hours. We'll load the data into a **DataFrame** using Pandas:"
   ]
  },
  {
   "cell_type": "code",
   "execution_count": 1,
   "id": "218b54dc",
   "metadata": {},
   "outputs": [],
   "source": [
    "## TODO\n"
   ]
  },
  {
   "cell_type": "markdown",
   "id": "9b9c6d24",
   "metadata": {},
   "source": [
    "Let's read the **student_scores.csv** file and package it into a DataFrame:"
   ]
  },
  {
   "cell_type": "code",
   "execution_count": 7,
   "id": "802b5d33",
   "metadata": {},
   "outputs": [],
   "source": [
    "import pandas as pd\n",
    "df = pd.read_csv(\"datasets/student_scores.csv\")\n"
   ]
  },
  {
   "cell_type": "markdown",
   "id": "e18909dc",
   "metadata": {},
   "source": [
    "Once the data is loaded in, let's take a quick peek at the first 5 values using the **head()** method:"
   ]
  },
  {
   "cell_type": "code",
   "execution_count": 8,
   "id": "bfe88ff0",
   "metadata": {},
   "outputs": [
    {
     "name": "stdout",
     "output_type": "stream",
     "text": [
      "   Hours  Scores\n",
      "0    2.5      21\n",
      "1    5.1      47\n",
      "2    3.2      27\n",
      "3    8.5      75\n",
      "4    3.5      30\n",
      "5    1.5      20\n",
      "6    9.2      88\n",
      "7    5.5      60\n",
      "8    8.3      81\n",
      "9    2.7      25\n"
     ]
    }
   ],
   "source": [
    "print(df.head(10))\n"
   ]
  },
  {
   "cell_type": "markdown",
   "id": "5d4df9d8",
   "metadata": {},
   "source": [
    "The results should be:\n",
    "![linear_regression](img/1.png)"
   ]
  },
  {
   "cell_type": "markdown",
   "id": "704fe65d",
   "metadata": {},
   "source": [
    "We can also check the shape of our dataset via the **shape** property:"
   ]
  },
  {
   "cell_type": "code",
   "execution_count": 9,
   "id": "7f0cacfc",
   "metadata": {},
   "outputs": [
    {
     "name": "stdout",
     "output_type": "stream",
     "text": [
      "(25, 2)\n"
     ]
    }
   ],
   "source": [
    "## TODO\n",
    "print(df.shape)"
   ]
  },
  {
   "cell_type": "markdown",
   "id": "b3508261",
   "metadata": {},
   "source": [
    "In essence, we're asking for the relationship between Hours and Scores. So, what's the relationship between these variables? We'll **plot the hours on the X-axis and scores on the Y-axis**, and for each pair, a marker will be positioned based on their values. X label is `Hours`, y title is `Scores` and the figure title is `Scatterplot of hours and scores percentages`."
   ]
  },
  {
   "cell_type": "code",
   "execution_count": 1,
   "id": "5cae9131",
   "metadata": {},
   "outputs": [],
   "source": []
  },
  {
   "cell_type": "markdown",
   "id": "0f05e4a0",
   "metadata": {},
   "source": [
    "This results in:\n",
    "\n",
    "![linear_regression](img/2.png)"
   ]
  },
  {
   "cell_type": "markdown",
   "id": "788a4ed4",
   "metadata": {},
   "source": [
    "The **corr()** method calculates and displays the correlations between numerical variables in a **DataFrame**:"
   ]
  },
  {
   "cell_type": "code",
   "execution_count": 5,
   "id": "0df561a3",
   "metadata": {},
   "outputs": [],
   "source": [
    "## TODO\n"
   ]
  },
  {
   "cell_type": "markdown",
   "id": "4ad5f577",
   "metadata": {},
   "source": [
    "The results should be:\n",
    "\n",
    "![linear_regression](img/3.png)"
   ]
  },
  {
   "cell_type": "markdown",
   "id": "7d32c345",
   "metadata": {},
   "source": [
    "As the hours increase, so do the scores. There's a fairly high positive correlation here! Since the shape of the line the points are making appears to be straight - we say that there's a **positive linear correlation** between the Hours and Scores variables.\n",
    "\n",
    "However, in this table, the correlation between Scores and Hours is `0.97`. Anything above `0.8` is considered to be a strong positive correlation."
   ]
  },
  {
   "cell_type": "markdown",
   "id": "ef362f98",
   "metadata": {},
   "source": [
    "Pandas also ships with a great helper method for statistical summaries, and we can **describe()** the dataset to get an idea of the mean, maximum, minimum, etc. values of our columns:"
   ]
  },
  {
   "cell_type": "code",
   "execution_count": null,
   "id": "e1f10f7f",
   "metadata": {},
   "outputs": [],
   "source": [
    "# TODO\n",
    "\n"
   ]
  },
  {
   "cell_type": "markdown",
   "id": "0f9d7535",
   "metadata": {},
   "source": [
    "The results should be:\n",
    "\n",
    "![linear_regression](img/4.png)"
   ]
  },
  {
   "cell_type": "markdown",
   "id": "d585d282",
   "metadata": {},
   "source": [
    "## Data Preprocessing"
   ]
  },
  {
   "cell_type": "markdown",
   "id": "65c82965",
   "metadata": {},
   "source": [
    "To separate the target and features, we can attribute the dataframe column values to our `y` and `X` variables:"
   ]
  },
  {
   "cell_type": "code",
   "execution_count": 6,
   "id": "eaa52b47",
   "metadata": {},
   "outputs": [],
   "source": [
    "## TODO\n"
   ]
  },
  {
   "cell_type": "markdown",
   "id": "4ee74a0a",
   "metadata": {},
   "source": [
    "This is easily achieved through the helper **train_test_split()** method, which accepts our X and y arrays (also works on **DataFrames** and splits a single **DataFrame** into training and testing sets), and a `test_size`. The `test_size` is the percentage of the overall data we'll be using for testing:"
   ]
  },
  {
   "cell_type": "code",
   "execution_count": 10,
   "id": "147a4cd5",
   "metadata": {},
   "outputs": [],
   "source": [
    "## TODO\n",
    "# Use these variables: X_train, X_test, y_train, y_test \n",
    "# and test_size = 0.2, random_state = 99\n",
    "\n"
   ]
  },
  {
   "cell_type": "markdown",
   "id": "a6f44f86",
   "metadata": {},
   "source": [
    "Now, if you print your `X_train` array - you'll find the study hours, and `y_train` contains the score percentages:"
   ]
  },
  {
   "cell_type": "code",
   "execution_count": 11,
   "id": "4f5ab438",
   "metadata": {},
   "outputs": [],
   "source": [
    "## TODO\n",
    "\n"
   ]
  },
  {
   "cell_type": "markdown",
   "id": "54eacb7d",
   "metadata": {},
   "source": [
    "## Training a Linear Regression Model"
   ]
  },
  {
   "cell_type": "markdown",
   "id": "0adc2a97",
   "metadata": {},
   "source": [
    "We have our train and test sets ready. Scikit-Learn has a plethora of model types we can easily import and train, **LinearRegression** being one of them:"
   ]
  },
  {
   "cell_type": "code",
   "execution_count": 13,
   "id": "d62f0311",
   "metadata": {},
   "outputs": [],
   "source": [
    "## TODO\n",
    "\n"
   ]
  },
  {
   "cell_type": "markdown",
   "id": "54566706",
   "metadata": {},
   "source": [
    "Now, we need to fit the line to our data, we will do that by using the **.fit()** method along with our `X_train` and `y_train` data:"
   ]
  },
  {
   "cell_type": "code",
   "execution_count": 14,
   "id": "bbb17b27",
   "metadata": {},
   "outputs": [],
   "source": [
    "## TODO\n",
    "\n"
   ]
  },
  {
   "cell_type": "markdown",
   "id": "de4f3e2b",
   "metadata": {},
   "source": [
    "If no errors are thrown - the regressor found the best fitting line! The line is defined by our features and the intercept/slope. In fact, we can inspect the intercept and slope by printing the `regressor.intecept_` and `regressor.coef_` attributes, respectively:"
   ]
  },
  {
   "cell_type": "code",
   "execution_count": 15,
   "id": "2b88f26d",
   "metadata": {},
   "outputs": [],
   "source": [
    "## TODO\n",
    "\n",
    "\n",
    "## ----> 2.82689235"
   ]
  },
  {
   "cell_type": "markdown",
   "id": "94db2d53",
   "metadata": {},
   "source": [
    "This can quite literally be plugged in into our formula from before:\n",
    "$$\\text{score}=9.68207815*\\text{hour}+2.82689235$$"
   ]
  },
  {
   "cell_type": "markdown",
   "id": "f33afe58",
   "metadata": {},
   "source": [
    "## Making Predictions\n",
    "\n",
    "To avoid running calculations ourselves, we could write our own formula that calculates the value:"
   ]
  },
  {
   "cell_type": "code",
   "execution_count": 17,
   "id": "6f015ab5",
   "metadata": {},
   "outputs": [],
   "source": [
    "## TODO\n",
    "# name of function will be 'calc' \n",
    "# with three inputs: slope, intercept, and hours\n",
    "# return with formula of linear regression\n",
    "\n"
   ]
  },
  {
   "cell_type": "markdown",
   "id": "fd9b6ee3",
   "metadata": {},
   "source": [
    "However - a much handier way to predict new values using our model is to call on the `predict()` function:"
   ]
  },
  {
   "cell_type": "code",
   "execution_count": 19,
   "id": "fe68d864",
   "metadata": {},
   "outputs": [],
   "source": [
    "## TODO\n",
    "# call on the predict() form regression and print the result.\n",
    "# Note: Passing 9.5 in double brackets to have a 2 dimensional array\n",
    "\n",
    "\n",
    "\n",
    "# 94.80663482"
   ]
  },
  {
   "cell_type": "markdown",
   "id": "50b64105",
   "metadata": {},
   "source": [
    "Our result is `94.80663482`, or approximately `95%`. Now we have a score percentage estimate for each and every hours we can think of. But can we trust those estimates? In the answer to that question is the reason why we split the data into train and test in the first place. Now we can predict using our test data and compare the predicted with our actual results - the **ground truth** results."
   ]
  },
  {
   "cell_type": "markdown",
   "id": "3a773171",
   "metadata": {},
   "source": [
    "To make predictions on the test data, we pass the `X_test` values to the **predict()** method. We can assign the results to the variable `y_pred`:"
   ]
  },
  {
   "cell_type": "code",
   "execution_count": 20,
   "id": "d5221ea9",
   "metadata": {},
   "outputs": [],
   "source": [
    "## TODO\n"
   ]
  },
  {
   "cell_type": "markdown",
   "id": "d774a34e",
   "metadata": {},
   "source": [
    "The `y_pred` variable now contains all the predicted values for the input values in the `X_test`. We can now compare the actual output values for `X_test` with the predicted values, by arranging them side by side in a dataframe structure:"
   ]
  },
  {
   "cell_type": "code",
   "execution_count": null,
   "id": "bef9c597",
   "metadata": {},
   "outputs": [],
   "source": [
    "df_preds = pd.DataFrame({'Actual': y_test.squeeze(), 'Predicted': y_pred.squeeze()})\n",
    "print(df_preds)"
   ]
  },
  {
   "cell_type": "markdown",
   "id": "291f2ba9",
   "metadata": {},
   "source": [
    "The output looks like this:\n",
    "![linear_regression](img/LR_4.png)"
   ]
  },
  {
   "cell_type": "markdown",
   "id": "c4000c2b",
   "metadata": {},
   "source": [
    "Though our model seems not to be very precise, the predicted percentages are close to the actual ones. Let's quantify the difference between the actual and predicted values to gain an objective view of how it's actually performing."
   ]
  },
  {
   "cell_type": "markdown",
   "id": "72df3148",
   "metadata": {},
   "source": [
    "## Evaluating the Model"
   ]
  },
  {
   "cell_type": "markdown",
   "id": "4c9a3fb5",
   "metadata": {},
   "source": [
    "After looking at the data, seeing a linear relationship, training and testing our model, we can understand how well it predicts by using some metrics. For regression models, three evaluation metrics are mainly used:"
   ]
  },
  {
   "cell_type": "markdown",
   "id": "3ff5cc78",
   "metadata": {},
   "source": [
    "1. **Mean Absolute Error (MAE)**: When we subtract the predicted values from the actual values, obtaining the errors, sum the absolute values of those errors and get their mean. This metric gives a notion of the overall error for each prediction of the model, the smaller (closer to 0) the better.\n",
    "$$\\displaystyle \\text{MAE}=\\dfrac{1}{n}\\sum_{i=1}^n\\left| \\text{Actual} - \\text{Predicted} \\right|$$\n",
    "2. **Mean Squared Error (MSE)**: It is similar to the MAE metric, but it squares the absolute values of the errors. Also, as with MAE, the smaller, or closer to 0, the better. The MSE value is squared so as to make large errors even larger. One thing to pay close attention to, it that it is usually a hard metric to interpret due to the size of its values and of the fact that they aren't in the same scale of the data.\n",
    "$$\\displaystyle \\text{MSE}=\\sum_{i=1}^n\\left( \\text{Actual} - \\text{Predicted} \\right)^2$$\n",
    "3. **Root Mean Squared Error (RMSE)**: Tries to solve the interpretation problem raised with the MSE by getting the square root of its final value, so as to scale it back to the same units of the data. It is easier to interpret and good when we need to display or show the actual value of the data with the error.\n",
    "$$\\displaystyle \\text{RMSE}=\\sqrt{\\sum_{i=1}^n\\left( \\text{Actual} - \\text{Predicted} \\right)^2}$$"
   ]
  },
  {
   "cell_type": "markdown",
   "id": "7b995a19",
   "metadata": {},
   "source": [
    "Luckily, we don't have to do any of the metrics calculations manually. The Scikit-Learn package already comes with functions that can be used to find out the values of these metrics for us. Let's find the values for these metrics using our test data. First, we will import the necessary modules for calculating the MAE and MSE errors. Respectively, the `mean_absolute_error` and `mean_squared_error`:"
   ]
  },
  {
   "cell_type": "code",
   "execution_count": 21,
   "id": "e7ff5cff",
   "metadata": {},
   "outputs": [],
   "source": [
    "from sklearn.metrics import mean_absolute_error, mean_squared_error"
   ]
  },
  {
   "cell_type": "markdown",
   "id": "5fba9b09",
   "metadata": {},
   "source": [
    "Now, we can calculate the MAE and MSE by passing the `y_test` (actual) and `y_pred` (predicted) to the methods. The RMSE can be calculated by taking the square root of the MSE, to to that, we will use NumPy's sqrt() method:"
   ]
  },
  {
   "cell_type": "code",
   "execution_count": 22,
   "id": "08cd7589",
   "metadata": {},
   "outputs": [],
   "source": [
    "import numpy as np\n",
    "# TODO\n",
    "\n"
   ]
  },
  {
   "cell_type": "markdown",
   "id": "bd905964",
   "metadata": {},
   "source": [
    "We will also print the metrics results using the `f` string and the 2 digit precision after the comma with `:.2f`:"
   ]
  },
  {
   "cell_type": "code",
   "execution_count": 23,
   "id": "18741f77",
   "metadata": {},
   "outputs": [],
   "source": [
    "# TODO\n",
    "\n"
   ]
  },
  {
   "cell_type": "markdown",
   "id": "f872b35a",
   "metadata": {},
   "source": [
    "The result should be:\n",
    "The output looks like this:\n",
    "![linear_regression](img/5.png)"
   ]
  },
  {
   "cell_type": "markdown",
   "id": "54d4beb1",
   "metadata": {},
   "source": [
    "# Multiple Linear Regression\n",
    "\n",
    "Until this point, we have predicted a value with linear regression using only one variable. There is a different scenario that we can consider, where we can predict using many variables instead of one, and this is also a much more common scenario in real life, where many things can affect some result. In a case like this, when it makes sense to use multiple variables, linear regression becomes a **multiple linear regression**."
   ]
  },
  {
   "cell_type": "markdown",
   "id": "fe8aa224",
   "metadata": {},
   "source": [
    "## Exploratory Data Analysis\n",
    "\n",
    "Following what we did with the linear regression, we will also want to know our data before applying multiple linear regression. First, we can import the data with pandas **read_csv()** method for `petrol_consumption.csv` datasets:"
   ]
  },
  {
   "cell_type": "code",
   "execution_count": 34,
   "id": "576867d7",
   "metadata": {},
   "outputs": [],
   "source": [
    "# TODO\n"
   ]
  },
  {
   "cell_type": "markdown",
   "id": "44f7ce10",
   "metadata": {},
   "source": [
    "We can now take a look at the first five rows with `df.head()` and  how many rows and columns our data has with `shape`:"
   ]
  },
  {
   "cell_type": "code",
   "execution_count": 26,
   "id": "21c13b0a",
   "metadata": {},
   "outputs": [],
   "source": [
    "# TODO\n",
    "\n"
   ]
  },
  {
   "cell_type": "markdown",
   "id": "dceb7134",
   "metadata": {},
   "source": [
    "This results in:\n",
    "\n",
    "![linear_regression](img/6.png)"
   ]
  },
  {
   "cell_type": "markdown",
   "id": "9ebd87fa",
   "metadata": {},
   "source": [
    "This time, we will facilitate the comparison of the statistics by rounding up the values to two decimals with the `round()` method, and transposing the table with the `T` property:"
   ]
  },
  {
   "cell_type": "code",
   "execution_count": 27,
   "id": "57f6ceb1",
   "metadata": {},
   "outputs": [],
   "source": [
    "# TODO\n",
    "\n"
   ]
  },
  {
   "cell_type": "markdown",
   "id": "c533740b",
   "metadata": {},
   "source": [
    "Our table is now column-wide instead of being row-wide:\n",
    "![linear_regression](img/MLR_1.png)"
   ]
  },
  {
   "cell_type": "markdown",
   "id": "354d4557",
   "metadata": {},
   "source": [
    "By looking at the min and max columns of the describe table, we see that the minimum value in our data is `0.45`, and the maximum value is `17,782`. This means that our data range is `17,781.55` (`17,782 - 0.45 = 17,781.55`), very wide - which implies our data variability is also high.\n",
    "\n",
    "Also, by comparing the values of the mean and std columns, such as `7.67` and `0.95`, `4241.83` and `573.62`, etc., we can see that the means are really far from the standard deviations. That implies our data is far from the mean, decentralized - which also adds to the variability.\n",
    "\n",
    "Another example of a coefficient being the same between differing relationships is Pearson Correlation (which checks for **linear correlation**):\n",
    "![linear_regression](img/MLR_2.png)"
   ]
  },
  {
   "cell_type": "markdown",
   "id": "8ca19092",
   "metadata": {},
   "source": [
    "This time, we will use **Seaborn**, an extension of Matplotlib which Pandas uses under the hood when plotting:"
   ]
  },
  {
   "cell_type": "code",
   "execution_count": null,
   "id": "6a063a38",
   "metadata": {},
   "outputs": [],
   "source": [
    "!pip install seaborn"
   ]
  },
  {
   "cell_type": "code",
   "execution_count": 35,
   "id": "844034f6",
   "metadata": {},
   "outputs": [
    {
     "data": {
      "image/png": "[encoded data removed]",
      "text/plain": [
       "<Figure size 432x288 with 1 Axes>"
      ]
     },
     "metadata": {
      "needs_background": "light"
     },
     "output_type": "display_data"
    },
    {
     "data": {
      "image/png": "[encoded data removed]",
      "text/plain": [
       "<Figure size 432x288 with 1 Axes>"
      ]
     },
     "metadata": {
      "needs_background": "light"
     },
     "output_type": "display_data"
    },
    {
     "data": {
      "image/png": "[encoded data removed]",
      "text/plain": [
       "<Figure size 432x288 with 1 Axes>"
      ]
     },
     "metadata": {
      "needs_background": "light"
     },
     "output_type": "display_data"
    },
    {
     "data": {
      "image/png": "[encoded data removed]",
      "text/plain": [
       "<Figure size 432x288 with 1 Axes>"
      ]
     },
     "metadata": {
      "needs_background": "light"
     },
     "output_type": "display_data"
    }
   ],
   "source": [
    "# TODO\n"
   ]
  },
  {
   "cell_type": "markdown",
   "id": "2ea22069",
   "metadata": {},
   "source": [
    "When looking at the regplots, it seems the `Petrol_tax` and `Average_income` have a weak negative linear relationship with `Petrol_Consumption`. It also seems that the `Population_Driver_license(%)` has a strong positive linear relationship with `Petrol_Consumption`, and that the `Paved_Highways` variable has no relationship with `Petrol_Consumption`.\n",
    "\n",
    "We can also calculate the correlation of the new variables, this time using Seaborn's `heatmap()` to help us spot the strongest and weaker correlations based on warmer (reds) and cooler (blues) tones:"
   ]
  },
  {
   "cell_type": "code",
   "execution_count": 36,
   "id": "76ea96a6",
   "metadata": {},
   "outputs": [
    {
     "data": {
      "image/png": "[encoded data removed]",
      "text/plain": [
       "<Figure size 432x288 with 2 Axes>"
      ]
     },
     "metadata": {
      "needs_background": "light"
     },
     "output_type": "display_data"
    }
   ],
   "source": [
    "correlations = df.corr()\n",
    "# annot=True displays the correlation values\n",
    "\n"
   ]
  },
  {
   "cell_type": "markdown",
   "id": "192222e1",
   "metadata": {},
   "source": [
    "Result:\n",
    "![linear_regression](img/7.png)"
   ]
  },
  {
   "cell_type": "markdown",
   "id": "0ec04755",
   "metadata": {},
   "source": [
    "It seems that the heatmap corroborates our previous analysis! `Petrol_tax` and `Average_income` have a weak negative linear relationship of, respectively, `-0.45` and `-0.24` with `Petrol_Consumption`. `Population_Driver_license(%)` has a strong positive linear relationship of `0.7` with `Petrol_Consumption`, and `Paved_Highways` correlation is of `0.019` - which indicates no relationship with `Petrol_Consumption`."
   ]
  },
  {
   "cell_type": "markdown",
   "id": "a0d8201c",
   "metadata": {},
   "source": [
    "Another important thing to notice in the regplots is that there are some points really far off from where most points concentrate, we were already expecting something like that after the big difference between the mean and std columns - those points might be data outliers and extreme values.\n",
    "\n",
    "![linear_regression](img/MLR_3.png)\n",
    "\n",
    "The multiple linear regression formula is basically an extension of the linear regression formula with more slope values:\n",
    "$$y=b_0+b_1*x_1+b_2*x_2+...++b_n*x_n+\\epsilon$$"
   ]
  },
  {
   "cell_type": "markdown",
   "id": "102eddd7",
   "metadata": {},
   "source": [
    "We have learned a lot about linear models and exploratory data analysis, now it's time to use the `Average_income`, `Paved_Highways`, `Population_Driver_license(%)` and `Petrol_tax` as independent variables of our model and see what happens."
   ]
  },
  {
   "cell_type": "markdown",
   "id": "02d965b0",
   "metadata": {},
   "source": [
    "## Preparing the Data"
   ]
  },
  {
   "cell_type": "markdown",
   "id": "116df5cb",
   "metadata": {},
   "source": [
    "We can use double brackets `[[ ]]` to select them from the dataframe:"
   ]
  },
  {
   "cell_type": "code",
   "execution_count": null,
   "id": "8a6f8d14",
   "metadata": {},
   "outputs": [],
   "source": [
    "y = df['Petrol_Consumption']\n",
    "X = df[['Average_income', 'Paved_Highways',\n",
    "       'Population_Driver_licence(%)', 'Petrol_tax']]"
   ]
  },
  {
   "cell_type": "markdown",
   "id": "998b4b91",
   "metadata": {},
   "source": [
    "After setting our `X` and `y` sets, we can divide our data into train and test sets. We will be using the same seed and `20%` of our data for training:"
   ]
  },
  {
   "cell_type": "code",
   "execution_count": null,
   "id": "a3ff7298",
   "metadata": {},
   "outputs": [],
   "source": [
    "# TODO\n",
    "\n"
   ]
  },
  {
   "cell_type": "markdown",
   "id": "dae1c636",
   "metadata": {},
   "source": [
    "## Training the Multivariate Model"
   ]
  },
  {
   "cell_type": "markdown",
   "id": "08bef903",
   "metadata": {},
   "source": [
    "To train our model we can execute the same code as before, and use the **fit()** method of the LinearRegression class, then use `regressor.intercept_` and `regressor.coef_`:"
   ]
  },
  {
   "cell_type": "code",
   "execution_count": 37,
   "id": "a582a8ef",
   "metadata": {},
   "outputs": [],
   "source": [
    "# TODO\n",
    "\n"
   ]
  },
  {
   "cell_type": "markdown",
   "id": "76e2e720",
   "metadata": {},
   "source": [
    "Those four values are the coefficients for each of our features in the same order as we have them in our `X` data. To see a list with their names, we can use the dataframe `columns` attribute:"
   ]
  },
  {
   "cell_type": "code",
   "execution_count": null,
   "id": "d035aa87",
   "metadata": {},
   "outputs": [],
   "source": [
    "feature_names = X.columns"
   ]
  },
  {
   "cell_type": "markdown",
   "id": "c3c4c553",
   "metadata": {},
   "source": [
    "To do that, we can assign our column names to a `feature_names` variable, and our coefficients to a `model_coefficients` variable. After that, we can create a dataframe with our features as an index and our coefficients as column values called `coefficients_df`:"
   ]
  },
  {
   "cell_type": "code",
   "execution_count": 2,
   "id": "9c8dbb80",
   "metadata": {},
   "outputs": [],
   "source": [
    "# TODO\n",
    "\n",
    "\n",
    "# regressor.intercept_ -> 361.45087906668397\n",
    "# regressor.coef_ -> [-5.65355145e-02, -4.38217137e-03,  1.34686930e+03, -3.69937459e+01]"
   ]
  },
  {
   "cell_type": "markdown",
   "id": "ab24ff78",
   "metadata": {},
   "source": [
    "The final `DataFrame` should look like this:\n",
    "\n",
    "![linear_regression](img/MLR_4.png)"
   ]
  },
  {
   "cell_type": "markdown",
   "id": "b27323bd",
   "metadata": {},
   "source": [
    "## Making Predictions with the Multivariate Regression Model"
   ]
  },
  {
   "cell_type": "markdown",
   "id": "538bd529",
   "metadata": {},
   "source": [
    "To understand if and how our model is making mistakes, we can predict the gas consumption using our test data and then look at our metrics to be able to tell how well our model is behaving.\n",
    "\n",
    "In the same way we had done for the simple regression model, let's predict with the test data:"
   ]
  },
  {
   "cell_type": "code",
   "execution_count": 39,
   "id": "308396b2",
   "metadata": {},
   "outputs": [],
   "source": [
    "# TODO\n",
    "\n"
   ]
  },
  {
   "cell_type": "markdown",
   "id": "1473c2b3",
   "metadata": {},
   "source": [
    "Now, that we have our test predictions, we can better compare them with the actual output values for `X_test` by organizing them in a `DataFrameformat`:"
   ]
  },
  {
   "cell_type": "code",
   "execution_count": 40,
   "id": "a1ad0231",
   "metadata": {},
   "outputs": [],
   "source": [
    "# TODO\n",
    "\n"
   ]
  },
  {
   "cell_type": "markdown",
   "id": "3cc70f62",
   "metadata": {},
   "source": [
    "The output should look like this:\n",
    "    \n",
    "![linear_regression](img/MLR_5.png)"
   ]
  },
  {
   "cell_type": "markdown",
   "id": "d946ef9c",
   "metadata": {},
   "source": [
    "## Evaluating the Multivariate Model"
   ]
  },
  {
   "cell_type": "markdown",
   "id": "be9825d5",
   "metadata": {},
   "source": [
    "After exploring, training and looking at our model predictions - our final step is to evaluate the performance of our multiple linear regression. We want to understand if our predicted values are too far from our actual values. We'll do this in the same way we had previously done, by calculating the **MAE, MSE and RMSE** metrics.\n",
    "\n",
    "So, let's execute the following code:"
   ]
  },
  {
   "cell_type": "code",
   "execution_count": 42,
   "id": "0712c726",
   "metadata": {},
   "outputs": [],
   "source": [
    "# TODO\n",
    "\n",
    "\n"
   ]
  },
  {
   "cell_type": "markdown",
   "id": "88907147",
   "metadata": {},
   "source": [
    "The output of our metrics should be:\n",
    "\n",
    "![Multivariate Model](img/8.png)"
   ]
  },
  {
   "cell_type": "markdown",
   "id": "e57b004c",
   "metadata": {},
   "source": [
    "To dig further into what is happening to our model, we can look at a metric that measures the model in a different way, it doesn't consider our individual data values such as MSE, RMSE and MAE, but takes a more general approach to the error:\n",
    "$$R^2=1-\\dfrac{\\sum\\left( \\text{Actual}-\\text{Predicted} \\right)^2}{\\sum\\left( \\text{Actual}-\\text{Actual Mean} \\right)^2}$$\n",
    "\n",
    "In other words, $R^2$ quantifies how much of the variance of the dependent variable is being explained by the model.\n",
    "\n",
    "The $R^2$ metric varies from 0% to 100%. The closer to 100%, the better. If the $R^2$ value is negative, it means it doesn't explain the target at all.\n",
    "\n",
    "We can calculate $R^2$ in Python to get a better understanding of how it works:\n"
   ]
  },
  {
   "cell_type": "code",
   "execution_count": 43,
   "id": "24ca268c",
   "metadata": {},
   "outputs": [],
   "source": [
    "# TODO\n",
    "\n"
   ]
  },
  {
   "cell_type": "markdown",
   "id": "f76e3205",
   "metadata": {},
   "source": [
    "$R^2$ also comes implemented by default into the `score` method of Scikit-Learn's linear regressor class. We can calculate it like this:"
   ]
  },
  {
   "cell_type": "code",
   "execution_count": null,
   "id": "f1bf67c8",
   "metadata": {},
   "outputs": [],
   "source": [
    "regressor.score(X_test, y_test)\n",
    "# -> 0.39136640014305457"
   ]
  },
  {
   "cell_type": "markdown",
   "id": "48696c7d",
   "metadata": {},
   "source": [
    "So far, it seems that our current model explains only `39%` of our test data which is not a good result, it means it leaves `61%` of the test data unexplained.\n",
    "\n",
    "Let's also understand how much our model explains of our train data:"
   ]
  },
  {
   "cell_type": "code",
   "execution_count": null,
   "id": "746a64e6",
   "metadata": {},
   "outputs": [],
   "source": [
    "regressor.score(X_train, y_train)\n",
    "# -> 0.7068781342155135"
   ]
  },
  {
   "cell_type": "markdown",
   "id": "fccc6d3e",
   "metadata": {},
   "source": [
    "We have found an issue with our model. It explains `70%` of the train data, but only 39% of our test data, which is more important to get right than our train data. It is fitting the train data really well, and not being able to fit the test data - which means, we have an overfitted multiple linear regression model."
   ]
  },
  {
   "cell_type": "markdown",
   "id": "371e52ce",
   "metadata": {},
   "source": [
    "There are many factors that may have contributed to this, a few of them could be:\n",
    "<ol>\n",
    "<li>Need for more data: we have only one year worth of data (and only 48 rows), which isn't that much, whereas having multiple years of data could have helped improve the prediction results quite a bit.</li>\n",
    "<li>Overcome overfitting: we can use a cross validation that will fit our model to different shuffled samples of our dataset to try to end overfitting.</li>\n",
    "<il>Assumptions that don't hold: we have made the assumption that the data had a linear relationship, but that might not be the case. Visualizing the data using boxplots, understanding the data distribution, treating the outliers, and normalizing it may help with that.</il>\n",
    "<li>Poor features: we might need other or more features that have strongest relationships with values we are trying to predict.</li>\n",
    "    </ol>"
   ]
  },
  {
   "cell_type": "markdown",
   "id": "bd2e379b",
   "metadata": {},
   "source": [
    "# GOOD LUCK!"
   ]
  }
 ],
 "metadata": {
  "kernelspec": {
   "display_name": "Python [conda env:base] *",
   "language": "python",
   "name": "conda-base-py"
  },
  "language_info": {
   "codemirror_mode": {
    "name": "ipython",
    "version": 3
   },
   "file_extension": ".py",
   "mimetype": "text/x-python",
   "name": "python",
   "nbconvert_exporter": "python",
   "pygments_lexer": "ipython3",
   "version": "3.13.5"
  }
 },
 "nbformat": 4,
 "nbformat_minor": 5
}
